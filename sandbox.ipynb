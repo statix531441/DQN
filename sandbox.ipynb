{
 "cells": [
  {
   "cell_type": "code",
   "execution_count": 1,
   "metadata": {},
   "outputs": [],
   "source": [
    "from tictac import TicTacToeEnv\n",
    "from opponents import Opponent, RuleBasedOpponent\n",
    "from model import DQN, minimaxDQN\n",
    "from dataset import ReplayDataset\n",
    "\n",
    "import random\n",
    "\n",
    "import numpy as np\n",
    "import matplotlib.pyplot as plt\n",
    "plt.style.use('dark_background')\n",
    "\n",
    "import torch\n",
    "from torch.utils.data import DataLoader\n",
    "import torch.nn.functional as F\n",
    "\n",
    "from IPython.display import clear_output"
   ]
  },
  {
   "cell_type": "code",
   "execution_count": 2,
   "metadata": {},
   "outputs": [],
   "source": [
    "BUFFER_SIZE = 1000000\n",
    "EPISODES = 1000\n",
    "BATCH_SIZE = 20\n",
    "EPOCHS = 200\n",
    "LR = 1e-4\n",
    "GAMMA = 0.1\n",
    "LR_STEP_SIZE = 500"
   ]
  },
  {
   "cell_type": "code",
   "execution_count": 3,
   "metadata": {},
   "outputs": [],
   "source": [
    "env = TicTacToeEnv()\n",
    "model = DQN()\n",
    "model.train()\n",
    "\n",
    "target_model = DQN()\n",
    "target_model.load_state_dict(model.state_dict())\n",
    "target_model.eval()\n",
    "\n",
    "optimizer = torch.optim.SGD(model.parameters(), lr=LR)\n",
    "scheduler = torch.optim.lr_scheduler.StepLR(optimizer, step_size=LR_STEP_SIZE, gamma=GAMMA)"
   ]
  },
  {
   "cell_type": "code",
   "execution_count": 4,
   "metadata": {},
   "outputs": [],
   "source": [
    "opponent = Opponent()\n",
    "# opponent = RuleBasedOpponent()"
   ]
  },
  {
   "cell_type": "code",
   "execution_count": 5,
   "metadata": {},
   "outputs": [],
   "source": [
    "# # Demo\n",
    "# observation, info = env.reset()\n",
    "# terminated = False\n",
    "# while not terminated:\n",
    "#     player_action = int(input())\n",
    "#     opponent_action = opponent.choose_action(env)\n",
    "\n",
    "#     clear_output(wait=False)\n",
    "#     observation, reward, terminated, _, info = env.step(player_action, opponent_action)\n",
    "\n",
    "#     print(env.render())\n",
    "#     print(observation)"
   ]
  },
  {
   "cell_type": "code",
   "execution_count": 6,
   "metadata": {},
   "outputs": [],
   "source": [
    "# model = DQN()\n",
    "# opponent = Opponent()\n",
    "# EPISODES = 100\n",
    "\n",
    "# wins, losses, draws = 0, 0, 0\n",
    "# for episode in range(EPISODES):\n",
    "#     observation, info = env.reset()\n",
    "#     terminated = False\n",
    "#     while not terminated:\n",
    "#         player_action = model.choose_action(observation['board'])\n",
    "#         opponent_action = opponent.choose_action(env)\n",
    "\n",
    "#         # clear_output(wait=False)\n",
    "#         observation, reward, terminated, _, info = env.step(player_action, opponent_action)\n",
    "\n",
    "#     if info['winner'] == -1: losses += 1\n",
    "#     elif info['winner'] == 1: wins += 1\n",
    "#     elif info['winner'] is None: draws += 1\n",
    "\n",
    "# print(\"wins\", \"losses\", \"draws\", sep=\"\\t\")\n",
    "# print(wins, losses, draws, sep=\"\\t\")"
   ]
  },
  {
   "cell_type": "code",
   "execution_count": 7,
   "metadata": {},
   "outputs": [],
   "source": [
    "# model = DQN()\n",
    "# model.load_state_dict(torch.load('saved_models/dqn2.pth', weights_only=True))\n",
    "# opponent = Opponent()\n",
    "# EPISODES = 100\n",
    "\n",
    "# wins, losses, draws = 0, 0, 0\n",
    "# for episode in range(EPISODES):\n",
    "#     observation, info = env.reset()\n",
    "#     terminated = False\n",
    "#     while not terminated:\n",
    "#         player_action = model.choose_action(observation['board'])\n",
    "#         opponent_action = opponent.choose_action(env)\n",
    "\n",
    "#         # clear_output(wait=False)\n",
    "#         observation, reward, terminated, _, info = env.step(player_action, opponent_action)\n",
    "#         # print(env.render())\n",
    "\n",
    "#     if info['winner'] == -1: losses += 1\n",
    "#     elif info['winner'] == 1: wins += 1\n",
    "#     elif info['winner'] is None: draws += 1\n",
    "\n",
    "# print(\"wins\", \"losses\", \"draws\", sep=\"\\t\")\n",
    "# print(wins, losses, draws, sep=\"\\t\")"
   ]
  },
  {
   "cell_type": "code",
   "execution_count": 8,
   "metadata": {},
   "outputs": [
    {
     "name": "stdout",
     "output_type": "stream",
     "text": [
      "wins\tlosses\tdraws\n",
      "8\t83\t9\n"
     ]
    }
   ],
   "source": [
    "model = minimaxDQN()\n",
    "opponent = Opponent()\n",
    "EPISODES = 100\n",
    "\n",
    "wins, losses, draws = 0, 0, 0\n",
    "for episode in range(EPISODES):\n",
    "    observation, info = env.reset()\n",
    "    terminated = False\n",
    "    while not terminated:\n",
    "        player_action = model.choose_action(observation['board'])\n",
    "        opponent_action = opponent.choose_action(env)\n",
    "\n",
    "        # clear_output(wait=False)\n",
    "        observation, reward, terminated, _, info = env.step(player_action, opponent_action)\n",
    "        # print(env.render())\n",
    "\n",
    "    if info['winner'] == -1: losses += 1\n",
    "    elif info['winner'] == 1: wins += 1\n",
    "    elif info['winner'] is None: draws += 1\n",
    "\n",
    "print(\"wins\", \"losses\", \"draws\", sep=\"\\t\")\n",
    "print(wins, losses, draws, sep=\"\\t\")"
   ]
  },
  {
   "cell_type": "code",
   "execution_count": null,
   "metadata": {},
   "outputs": [],
   "source": []
  },
  {
   "cell_type": "code",
   "execution_count": 9,
   "metadata": {},
   "outputs": [
    {
     "data": {
      "text/plain": [
       "np.int64(0)"
      ]
     },
     "execution_count": 9,
     "metadata": {},
     "output_type": "execute_result"
    }
   ],
   "source": [
    "q_values = model.forward(torch.randn(9,).to(torch.float)).reshape((9, 9)).detach()\n",
    "q_values\n",
    "player_policy = F.softmax(torch.min(q_values, axis=1).values, dim=0).detach().numpy()\n",
    "player_policy\n",
    "player_action = np.random.choice(np.arange(9), p=player_policy)\n",
    "player_action"
   ]
  },
  {
   "cell_type": "code",
   "execution_count": 10,
   "metadata": {},
   "outputs": [
    {
     "data": {
      "text/plain": [
       "np.float32(1.0000001)"
      ]
     },
     "execution_count": 10,
     "metadata": {},
     "output_type": "execute_result"
    }
   ],
   "source": [
    "player_policy.sum()"
   ]
  },
  {
   "cell_type": "code",
   "execution_count": 11,
   "metadata": {},
   "outputs": [],
   "source": [
    "env.MAX_TURNS = 100"
   ]
  },
  {
   "cell_type": "code",
   "execution_count": 12,
   "metadata": {},
   "outputs": [
    {
     "name": "stdout",
     "output_type": "stream",
     "text": [
      "wins\tlosses\tdraws\n",
      "1\t0\t99\n"
     ]
    }
   ],
   "source": [
    "model = minimaxDQN()\n",
    "model.load_state_dict(torch.load('saved_models/minmax_dqn3.pth', weights_only=True))\n",
    "opponent = RuleBasedOpponent()\n",
    "# opponent = Opponent()\n",
    "EPISODES = 100\n",
    "\n",
    "wins, losses, draws = 0, 0, 0\n",
    "for episode in range(EPISODES):\n",
    "    observation, info = env.reset()\n",
    "    terminated = False\n",
    "    while not terminated:\n",
    "        \n",
    "        # opponent_action = random.sample(env.valid_actions(), 1)[0]\n",
    "        player_action = model.choose_action(observation['board'], best=True)\n",
    "        opponent_action = opponent.choose_action(env)\n",
    "        # player_action, _ = model.choose_actions(observation['board'], opponent_action, best=True)\n",
    "\n",
    "        # clear_output(wait=False)\n",
    "        observation, reward, terminated, _, info = env.step(player_action, opponent_action)\n",
    "        # print(env.render())\n",
    "\n",
    "    if info['winner'] == -1: losses += 1\n",
    "    elif info['winner'] == 1: wins += 1\n",
    "    elif info['winner'] is None: draws += 1\n",
    "\n",
    "print(\"wins\", \"losses\", \"draws\", sep=\"\\t\")\n",
    "print(wins, losses, draws, sep=\"\\t\")"
   ]
  },
  {
   "cell_type": "code",
   "execution_count": null,
   "metadata": {},
   "outputs": [],
   "source": []
  },
  {
   "cell_type": "code",
   "execution_count": 13,
   "metadata": {},
   "outputs": [],
   "source": [
    "# # Demo\n",
    "# model = minimaxDQN()\n",
    "# model.load_state_dict(torch.load('saved_models/minmax_dqn3.pth', weights_only=True))\n",
    "\n",
    "# observation, info = env.reset()\n",
    "# terminated = False\n",
    "# while not terminated:\n",
    "#     player_action = int(input())\n",
    "#     opponent_action, _ = model.choose_actions(observation['board'])\n",
    "\n",
    "#     clear_output(wait=False)\n",
    "#     observation, reward, terminated, _, info = env.step(player_action, opponent_action)\n",
    "\n",
    "#     print(env.render())\n",
    "#     print(observation)"
   ]
  },
  {
   "cell_type": "code",
   "execution_count": 14,
   "metadata": {},
   "outputs": [],
   "source": [
    "from dataset import ReplayDataset\n",
    "import numpy as np\n",
    "import random"
   ]
  },
  {
   "cell_type": "code",
   "execution_count": 15,
   "metadata": {},
   "outputs": [],
   "source": [
    "# Opponent choosing invalid action gives a positive reward"
   ]
  },
  {
   "cell_type": "code",
   "execution_count": 16,
   "metadata": {},
   "outputs": [
    {
     "data": {
      "text/plain": [
       "tensor(3)"
      ]
     },
     "execution_count": 16,
     "metadata": {},
     "output_type": "execute_result"
    }
   ],
   "source": [
    "max_val, player_action = torch.max(torch.min(q_values, axis=1).values, axis=0)\n",
    "player_action"
   ]
  },
  {
   "cell_type": "code",
   "execution_count": 17,
   "metadata": {},
   "outputs": [
    {
     "data": {
      "text/plain": [
       "tensor([ 1.4247, -0.1421, -0.3173,  1.2412])"
      ]
     },
     "execution_count": 17,
     "metadata": {},
     "output_type": "execute_result"
    }
   ],
   "source": [
    "state = torch.randn(4)\n",
    "state"
   ]
  },
  {
   "cell_type": "code",
   "execution_count": 18,
   "metadata": {},
   "outputs": [
    {
     "data": {
      "text/plain": [
       "tensor([-1.9531, -0.0063,  0.4903,  0.9780])"
      ]
     },
     "execution_count": 18,
     "metadata": {},
     "output_type": "execute_result"
    }
   ],
   "source": [
    "player_vec = torch.randn(4)\n",
    "player_vec"
   ]
  },
  {
   "cell_type": "code",
   "execution_count": 19,
   "metadata": {},
   "outputs": [],
   "source": [
    "opponents = [Opponent(), RuleBasedOpponent()]\n",
    "\n",
    "opponent_no = random.choice(range(len(opponents)))"
   ]
  },
  {
   "cell_type": "code",
   "execution_count": 20,
   "metadata": {},
   "outputs": [
    {
     "data": {
      "text/plain": [
       "<All keys matched successfully>"
      ]
     },
     "execution_count": 20,
     "metadata": {},
     "output_type": "execute_result"
    }
   ],
   "source": [
    "from model import PolicyNet\n",
    "\n",
    "policynet = PolicyNet()\n",
    "policynet.load_state_dict(torch.load('saved_models/policynet.pth', weights_only=True))"
   ]
  },
  {
   "cell_type": "code",
   "execution_count": 21,
   "metadata": {},
   "outputs": [
    {
     "data": {
      "text/plain": [
       "array([0., 0., 0., 0., 0., 0., 0., 0., 0.])"
      ]
     },
     "execution_count": 21,
     "metadata": {},
     "output_type": "execute_result"
    }
   ],
   "source": [
    "observation, info = env.reset()\n",
    "\n",
    "state = observation['board']\n",
    "state"
   ]
  },
  {
   "cell_type": "code",
   "execution_count": 29,
   "metadata": {},
   "outputs": [
    {
     "data": {
      "text/plain": [
       "torch.Size([9, 9])"
      ]
     },
     "execution_count": 29,
     "metadata": {},
     "output_type": "execute_result"
    }
   ],
   "source": [
    "q_values = model.forward(torch.tensor(state).to(torch.float)).reshape((9, 9)).detach()\n",
    "q_values.shape"
   ]
  },
  {
   "cell_type": "code",
   "execution_count": 30,
   "metadata": {},
   "outputs": [
    {
     "data": {
      "text/plain": [
       "torch.Size([9])"
      ]
     },
     "execution_count": 30,
     "metadata": {},
     "output_type": "execute_result"
    }
   ],
   "source": [
    "policynet.return_policy(state, 0).shape"
   ]
  },
  {
   "cell_type": "code",
   "execution_count": 37,
   "metadata": {},
   "outputs": [
    {
     "data": {
      "text/plain": [
       "tensor([-0.0239,  0.5513,  0.4318, -0.0925,  0.2675])"
      ]
     },
     "execution_count": 37,
     "metadata": {},
     "output_type": "execute_result"
    }
   ],
   "source": [
    "out = policynet.return_policy(state, 0) * torch.randn(5, 9)\n",
    "out.sum(axis=1)"
   ]
  }
 ],
 "metadata": {
  "kernelspec": {
   "display_name": "game",
   "language": "python",
   "name": "python3"
  },
  "language_info": {
   "codemirror_mode": {
    "name": "ipython",
    "version": 3
   },
   "file_extension": ".py",
   "mimetype": "text/x-python",
   "name": "python",
   "nbconvert_exporter": "python",
   "pygments_lexer": "ipython3",
   "version": "3.11.10"
  }
 },
 "nbformat": 4,
 "nbformat_minor": 2
}
